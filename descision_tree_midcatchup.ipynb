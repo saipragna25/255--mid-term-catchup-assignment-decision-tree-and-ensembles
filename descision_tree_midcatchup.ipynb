{
  "nbformat": 4,
  "nbformat_minor": 0,
  "metadata": {
    "colab": {
      "provenance": [],
      "authorship_tag": "ABX9TyPAx+SY00K/psFB7yQ162sD",
      "include_colab_link": true
    },
    "kernelspec": {
      "name": "python3",
      "display_name": "Python 3"
    },
    "language_info": {
      "name": "python"
    }
  },
  "cells": [
    {
      "cell_type": "markdown",
      "metadata": {
        "id": "view-in-github",
        "colab_type": "text"
      },
      "source": [
        "<a href=\"https://colab.research.google.com/github/saipragna25/255--mid-term-catchup-assignment-decision-tree-and-ensembles/blob/main/descision_tree_midcatchup.ipynb\" target=\"_parent\"><img src=\"https://colab.research.google.com/assets/colab-badge.svg\" alt=\"Open In Colab\"/></a>"
      ]
    },
    {
      "cell_type": "code",
      "execution_count": 1,
      "metadata": {
        "id": "g7cLACszzEPQ"
      },
      "outputs": [],
      "source": [
        "  \n",
        "# Importing the required packages\n",
        "import numpy as np\n",
        "import pandas as pd\n",
        "from sklearn.metrics import confusion_matrix\n",
        "from sklearn.model_selection import train_test_split\n",
        "from sklearn.tree import DecisionTreeClassifier\n",
        "from sklearn.metrics import accuracy_score\n",
        "from sklearn.metrics import classification_report"
      ]
    },
    {
      "cell_type": "code",
      "source": [
        "# Function importing Dataset\n",
        "def importdata():\n",
        "    balance_data = pd.read_csv(\n",
        "'https://archive.ics.uci.edu/ml/machine-learning-'+\n",
        "'databases/balance-scale/balance-scale.data',\n",
        "    sep= ',', header = None)\n",
        "      \n",
        "    # Printing the dataswet shape\n",
        "    print (\"Dataset Length: \", len(balance_data))\n",
        "    print (\"Dataset Shape: \", balance_data.shape)\n",
        "      \n",
        "    # Printing the dataset obseravtions\n",
        "    print (\"Dataset: \",balance_data.head())\n",
        "    return balance_data\n",
        "  "
      ],
      "metadata": {
        "id": "xQFrVIxGzah-"
      },
      "execution_count": 12,
      "outputs": []
    },
    {
      "cell_type": "code",
      "source": [
        "# Function to split the dataset\n",
        "def splitdataset(balance_data):\n",
        "  \n",
        "    # Separating the target variable\n",
        "    X = balance_data.values[:, 1:5]\n",
        "    Y = balance_data.values[:, 0]\n",
        "  \n",
        "    # Splitting the dataset into train and test\n",
        "    X_train, X_test, y_train, y_test = train_test_split( \n",
        "    X, Y, test_size = 0.3, random_state = 100)\n",
        "      \n",
        "    return X, Y, X_train, X_test, y_train, y_test\n",
        "      "
      ],
      "metadata": {
        "id": "ZqegREPgzp2Q"
      },
      "execution_count": 3,
      "outputs": []
    },
    {
      "cell_type": "code",
      "source": [
        "# Function to perform training with giniIndex.\n",
        "def train_using_gini(X_train, X_test, y_train):\n",
        "  \n",
        "    # Creating the classifier object\n",
        "    clf_gini = DecisionTreeClassifier(criterion = \"gini\",\n",
        "            random_state = 100,max_depth=3, min_samples_leaf=5)\n",
        "  \n",
        "    # Performing training\n",
        "    clf_gini.fit(X_train, y_train)\n",
        "    return clf_gini"
      ],
      "metadata": {
        "id": "oapwBb_0zwPn"
      },
      "execution_count": 7,
      "outputs": []
    },
    {
      "cell_type": "code",
      "source": [
        "# Function to perform training with entropy.\n",
        "def tarin_using_entropy(X_train, X_test, y_train):\n",
        "  \n",
        "    # Decision tree with entropy\n",
        "    clf_entropy = DecisionTreeClassifier(\n",
        "            criterion = \"entropy\", random_state = 100,\n",
        "            max_depth = 3, min_samples_leaf = 5)\n",
        "  \n",
        "    # Performing training\n",
        "    clf_entropy.fit(X_train, y_train)\n",
        "    return clf_entropy"
      ],
      "metadata": {
        "id": "qXFCUUXtz0B6"
      },
      "execution_count": 8,
      "outputs": []
    },
    {
      "cell_type": "code",
      "source": [
        "# Function to make predictions\n",
        "def prediction(X_test, clf_object):\n",
        "  \n",
        "    # Predicton on test with giniIndex\n",
        "    y_pred = clf_object.predict(X_test)\n",
        "    print(\"Predicted values:\")\n",
        "    print(y_pred)\n",
        "    return y_pred"
      ],
      "metadata": {
        "id": "HaGBv8FLz3rl"
      },
      "execution_count": 9,
      "outputs": []
    },
    {
      "cell_type": "code",
      "source": [
        "# Function to calculate accuracy\n",
        "def cal_accuracy(y_test, y_pred):\n",
        "      \n",
        "    print(\"Confusion Matrix: \",\n",
        "        confusion_matrix(y_test, y_pred))\n",
        "      \n",
        "    print (\"Accuracy : \",\n",
        "    accuracy_score(y_test,y_pred)*100)\n",
        "      \n",
        "    print(\"Report : \",\n",
        "    classification_report(y_test, y_pred))"
      ],
      "metadata": {
        "id": "X8QFlAsB0HNE"
      },
      "execution_count": 10,
      "outputs": []
    },
    {
      "cell_type": "code",
      "source": [
        " # Building Phase\n",
        "data = importdata()\n",
        "X, Y, X_train, X_test, y_train, y_test = splitdataset(data)\n",
        "clf_gini = train_using_gini(X_train, X_test, y_train)\n",
        "clf_entropy = tarin_using_entropy(X_train, X_test, y_train)"
      ],
      "metadata": {
        "colab": {
          "base_uri": "https://localhost:8080/"
        },
        "id": "tA6aLN991xbc",
        "outputId": "4274da77-678e-4e05-beed-ced46c74f0d4"
      },
      "execution_count": 14,
      "outputs": [
        {
          "output_type": "stream",
          "name": "stdout",
          "text": [
            "Dataset Length:  625\n",
            "Dataset Shape:  (625, 5)\n",
            "Dataset:     0  1  2  3  4\n",
            "0  B  1  1  1  1\n",
            "1  R  1  1  1  2\n",
            "2  R  1  1  1  3\n",
            "3  R  1  1  1  4\n",
            "4  R  1  1  1  5\n"
          ]
        }
      ]
    },
    {
      "cell_type": "code",
      "source": [
        "# Prediction using gini\n",
        "y_pred_gini = prediction(X_test, clf_gini)\n",
        "cal_accuracy(y_test, y_pred_gini)"
      ],
      "metadata": {
        "colab": {
          "base_uri": "https://localhost:8080/"
        },
        "id": "cgbRABoB3Zrr",
        "outputId": "7a3f7f37-35b3-470c-dc99-e6939adab5f5"
      },
      "execution_count": 15,
      "outputs": [
        {
          "output_type": "stream",
          "name": "stdout",
          "text": [
            "Predicted values:\n",
            "['R' 'L' 'R' 'R' 'R' 'L' 'R' 'L' 'L' 'L' 'R' 'L' 'L' 'L' 'R' 'L' 'R' 'L'\n",
            " 'L' 'R' 'L' 'R' 'L' 'L' 'R' 'L' 'L' 'L' 'R' 'L' 'L' 'L' 'R' 'L' 'L' 'L'\n",
            " 'L' 'R' 'L' 'L' 'R' 'L' 'R' 'L' 'R' 'R' 'L' 'L' 'R' 'L' 'R' 'R' 'L' 'R'\n",
            " 'R' 'L' 'R' 'R' 'L' 'L' 'R' 'R' 'L' 'L' 'L' 'L' 'L' 'R' 'R' 'L' 'L' 'R'\n",
            " 'R' 'L' 'R' 'L' 'R' 'R' 'R' 'L' 'R' 'L' 'L' 'L' 'L' 'R' 'R' 'L' 'R' 'L'\n",
            " 'R' 'R' 'L' 'L' 'L' 'R' 'R' 'L' 'L' 'L' 'R' 'L' 'R' 'R' 'R' 'R' 'R' 'R'\n",
            " 'R' 'L' 'R' 'L' 'R' 'R' 'L' 'R' 'R' 'R' 'R' 'R' 'L' 'R' 'L' 'L' 'L' 'L'\n",
            " 'L' 'L' 'L' 'R' 'R' 'R' 'R' 'L' 'R' 'R' 'R' 'L' 'L' 'R' 'L' 'R' 'L' 'R'\n",
            " 'L' 'L' 'R' 'L' 'L' 'R' 'L' 'R' 'L' 'R' 'R' 'R' 'L' 'R' 'R' 'R' 'R' 'R'\n",
            " 'L' 'L' 'R' 'R' 'R' 'R' 'L' 'R' 'R' 'R' 'L' 'R' 'L' 'L' 'L' 'L' 'R' 'R'\n",
            " 'L' 'R' 'R' 'L' 'L' 'R' 'R' 'R']\n",
            "Confusion Matrix:  [[ 0  6  7]\n",
            " [ 0 67 18]\n",
            " [ 0 19 71]]\n",
            "Accuracy :  73.40425531914893\n",
            "Report :                precision    recall  f1-score   support\n",
            "\n",
            "           B       0.00      0.00      0.00        13\n",
            "           L       0.73      0.79      0.76        85\n",
            "           R       0.74      0.79      0.76        90\n",
            "\n",
            "    accuracy                           0.73       188\n",
            "   macro avg       0.49      0.53      0.51       188\n",
            "weighted avg       0.68      0.73      0.71       188\n",
            "\n"
          ]
        },
        {
          "output_type": "stream",
          "name": "stderr",
          "text": [
            "/usr/local/lib/python3.8/dist-packages/sklearn/metrics/_classification.py:1318: UndefinedMetricWarning: Precision and F-score are ill-defined and being set to 0.0 in labels with no predicted samples. Use `zero_division` parameter to control this behavior.\n",
            "  _warn_prf(average, modifier, msg_start, len(result))\n",
            "/usr/local/lib/python3.8/dist-packages/sklearn/metrics/_classification.py:1318: UndefinedMetricWarning: Precision and F-score are ill-defined and being set to 0.0 in labels with no predicted samples. Use `zero_division` parameter to control this behavior.\n",
            "  _warn_prf(average, modifier, msg_start, len(result))\n",
            "/usr/local/lib/python3.8/dist-packages/sklearn/metrics/_classification.py:1318: UndefinedMetricWarning: Precision and F-score are ill-defined and being set to 0.0 in labels with no predicted samples. Use `zero_division` parameter to control this behavior.\n",
            "  _warn_prf(average, modifier, msg_start, len(result))\n"
          ]
        }
      ]
    },
    {
      "cell_type": "code",
      "source": [
        "# Prediction using entropy\n",
        "y_pred_entropy = prediction(X_test, clf_entropy)\n",
        "cal_accuracy(y_test, y_pred_entropy)"
      ],
      "metadata": {
        "colab": {
          "base_uri": "https://localhost:8080/"
        },
        "id": "APUKzxhA3kU8",
        "outputId": "366962a5-ee75-4796-c2b6-38fd6d310c92"
      },
      "execution_count": 16,
      "outputs": [
        {
          "output_type": "stream",
          "name": "stdout",
          "text": [
            "Predicted values:\n",
            "['R' 'L' 'R' 'L' 'R' 'L' 'R' 'L' 'R' 'R' 'R' 'R' 'L' 'L' 'R' 'L' 'R' 'L'\n",
            " 'L' 'R' 'L' 'R' 'L' 'L' 'R' 'L' 'R' 'L' 'R' 'L' 'R' 'L' 'R' 'L' 'L' 'L'\n",
            " 'L' 'L' 'R' 'L' 'R' 'L' 'R' 'L' 'R' 'R' 'L' 'L' 'R' 'L' 'L' 'R' 'L' 'L'\n",
            " 'R' 'L' 'R' 'R' 'L' 'R' 'R' 'R' 'L' 'L' 'R' 'L' 'L' 'R' 'L' 'L' 'L' 'R'\n",
            " 'R' 'L' 'R' 'L' 'R' 'R' 'R' 'L' 'R' 'L' 'L' 'L' 'L' 'R' 'R' 'L' 'R' 'L'\n",
            " 'R' 'R' 'L' 'L' 'L' 'R' 'R' 'L' 'L' 'L' 'R' 'L' 'L' 'R' 'R' 'R' 'R' 'R'\n",
            " 'R' 'L' 'R' 'L' 'R' 'R' 'L' 'R' 'R' 'L' 'R' 'R' 'L' 'R' 'R' 'R' 'L' 'L'\n",
            " 'L' 'L' 'L' 'R' 'R' 'R' 'R' 'L' 'R' 'R' 'R' 'L' 'L' 'R' 'L' 'R' 'L' 'R'\n",
            " 'L' 'R' 'R' 'L' 'L' 'R' 'L' 'R' 'R' 'R' 'R' 'R' 'L' 'R' 'R' 'R' 'R' 'R'\n",
            " 'R' 'L' 'R' 'L' 'R' 'R' 'L' 'R' 'L' 'R' 'L' 'R' 'L' 'L' 'L' 'L' 'L' 'R'\n",
            " 'R' 'R' 'L' 'L' 'L' 'R' 'R' 'R']\n",
            "Confusion Matrix:  [[ 0  6  7]\n",
            " [ 0 63 22]\n",
            " [ 0 20 70]]\n",
            "Accuracy :  70.74468085106383\n",
            "Report :                precision    recall  f1-score   support\n",
            "\n",
            "           B       0.00      0.00      0.00        13\n",
            "           L       0.71      0.74      0.72        85\n",
            "           R       0.71      0.78      0.74        90\n",
            "\n",
            "    accuracy                           0.71       188\n",
            "   macro avg       0.47      0.51      0.49       188\n",
            "weighted avg       0.66      0.71      0.68       188\n",
            "\n"
          ]
        },
        {
          "output_type": "stream",
          "name": "stderr",
          "text": [
            "/usr/local/lib/python3.8/dist-packages/sklearn/metrics/_classification.py:1318: UndefinedMetricWarning: Precision and F-score are ill-defined and being set to 0.0 in labels with no predicted samples. Use `zero_division` parameter to control this behavior.\n",
            "  _warn_prf(average, modifier, msg_start, len(result))\n",
            "/usr/local/lib/python3.8/dist-packages/sklearn/metrics/_classification.py:1318: UndefinedMetricWarning: Precision and F-score are ill-defined and being set to 0.0 in labels with no predicted samples. Use `zero_division` parameter to control this behavior.\n",
            "  _warn_prf(average, modifier, msg_start, len(result))\n",
            "/usr/local/lib/python3.8/dist-packages/sklearn/metrics/_classification.py:1318: UndefinedMetricWarning: Precision and F-score are ill-defined and being set to 0.0 in labels with no predicted samples. Use `zero_division` parameter to control this behavior.\n",
            "  _warn_prf(average, modifier, msg_start, len(result))\n"
          ]
        }
      ]
    }
  ]
}